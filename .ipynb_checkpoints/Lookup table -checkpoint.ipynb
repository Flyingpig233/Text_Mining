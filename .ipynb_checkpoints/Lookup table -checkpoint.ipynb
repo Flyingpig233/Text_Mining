{
 "cells": [
  {
   "cell_type": "markdown",
   "metadata": {},
   "source": [
    "### Since we don't have official Product list, we make our lookup table to check if the information we extracted by using only regular expression is actually one of the products."
   ]
  },
  {
   "cell_type": "code",
   "execution_count": 1,
   "metadata": {},
   "outputs": [],
   "source": [
    "import pandas as pd\n",
    "import numpy as np\n",
    "import os\n",
    "import re\n",
    "from itertools import chain"
   ]
  },
  {
   "cell_type": "code",
   "execution_count": 2,
   "metadata": {},
   "outputs": [
    {
     "name": "stdout",
     "output_type": "stream",
     "text": [
      "Wall time: 8.7 s\n",
      "Wall time: 153 ms\n",
      "Wall time: 123 ms\n",
      "Wall time: 139 ms\n"
     ]
    }
   ],
   "source": [
    "folder_path = r'.\\version_extract'\n",
    "%time sf1 = pd.read_csv(os.path.join(folder_path, 'data\\SF_Comments.csv'))\n",
    "%time sf2 = pd.read_csv(os.path.join(folder_path, 'data\\SF_Comments_Apr28Jun05.csv'))\n",
    "%time sf3 = pd.read_csv(os.path.join(folder_path, 'data\\SF_Comments_June28_July31.csv'))\n",
    "%time sf4 = pd.read_csv(os.path.join(folder_path, 'data\\SF_Comments_May30_June30.csv'))"
   ]
  },
  {
   "cell_type": "code",
   "execution_count": 3,
   "metadata": {},
   "outputs": [
    {
     "data": {
      "text/plain": [
       "(1020178, 12729, 12092, 14545)"
      ]
     },
     "execution_count": 3,
     "metadata": {},
     "output_type": "execute_result"
    }
   ],
   "source": [
    "sf1.shape[0], sf2.shape[0], sf3.shape[0], sf4.shape[0],"
   ]
  },
  {
   "cell_type": "code",
   "execution_count": 4,
   "metadata": {},
   "outputs": [],
   "source": [
    "lookup_path = r'.\\lookup\\SomeVersions.xlsx'\n",
    "table = pd.read_excel(lookup_path, sheet_name = 'Sheet13')\n",
    "# run only once\n",
    "versions = table.drop(index=0)['Versions']"
   ]
  },
  {
   "cell_type": "code",
   "execution_count": 5,
   "metadata": {},
   "outputs": [
    {
     "data": {
      "text/plain": [
       "((1059544, 14), 1046184)"
      ]
     },
     "execution_count": 5,
     "metadata": {},
     "output_type": "execute_result"
    }
   ],
   "source": [
    "df = pd.concat([sf1, sf2, sf3, sf4], axis=0, ignore_index = True)\n",
    "df2 = df[df.comment.notnull()]\n",
    "comments = df2.comment\n",
    "df.shape, len(comments)"
   ]
  },
  {
   "cell_type": "markdown",
   "metadata": {},
   "source": [
    "### Main"
   ]
  },
  {
   "cell_type": "code",
   "execution_count": 6,
   "metadata": {},
   "outputs": [],
   "source": [
    "def extract(series, regx = None, show_examples = False):\n",
    "    # Input data need to be pd.Series\n",
    "    \n",
    "    ## define matching criteria\n",
    "    if regx is None:\n",
    "        full_regx = '\\s.?[A-Za-z_]{3,}.?[0-9]{1,2}[.][0-9]{1,2}[.0-9]*.?\\s'\n",
    "        other_regx = '\\s.?[0-9]{1,2}[.\\s]?[0-9]{1,2}[.0-9]*.?\\s'\n",
    "        #regular_expression = '\\s.?[A-Z]{1}[A-Za-z_]{1,}.?[0-9]{1,2}[.][0-9]{1,2}[.0-9]*.?\\s|\\s.?[0-9]{1,2}[.][0-9]{1,2}[.0-9]*.?\\s'\n",
    "        regular_expression = r'\\s.?[A-Z]{1}[A-Z_]{1,}.?[0-9]{1,2}[.][0-9]{1,2}[.0-9]*.?\\s|\\s[^a-zA-Z]?[0-9]{1,2}[.][0-9]{1,2}[.0-9]*.?\\s'\n",
    "    else:\n",
    "        regular_expression = regx\n",
    "    \n",
    "    new_series = pd.Series([re.sub('\\s[vV]ersion is|\\s[vV]ersion|[vV]ersion', '', x) for x in series],index = series.index)\n",
    "    \n",
    "        # get a match object\n",
    "        # matches = [re.search(regular_expression ,str(x)) for x in series]\n",
    "        \n",
    "    matches = pd.Series([re.findall(regular_expression ,str(x)) for x in new_series],\n",
    "                        index = new_series.index)\n",
    "\n",
    "    ind = [len(x)!=0 for x in matches]\n",
    "    extracted = matches[ind]\n",
    "    extracted.name = 'Matched Results'\n",
    "\n",
    "    extract_final = pd.DataFrame(extracted)\n",
    "    extract_final['Matched Num'] =  extract_final['Matched Results'].apply(len)\n",
    "    \n",
    "    \n",
    "    if show_examples:\n",
    "        print('Extracted samples:')\n",
    "        for i, info in extract_final.head(3).iteritems():\n",
    "            print('-'*20 + '{}'.format(i) + '-'*20)\n",
    "            print(info)\n",
    "    # output series\n",
    "    \n",
    "    return extract_final"
   ]
  },
  {
   "cell_type": "code",
   "execution_count": 7,
   "metadata": {},
   "outputs": [
    {
     "name": "stdout",
     "output_type": "stream",
     "text": [
      "Wall time: 31.4 s\n"
     ]
    }
   ],
   "source": [
    "%time o2 = extract(comments)\n",
    "#o5.head(10)"
   ]
  },
  {
   "cell_type": "code",
   "execution_count": 8,
   "metadata": {},
   "outputs": [
    {
     "data": {
      "text/html": [
       "<div>\n",
       "<style scoped>\n",
       "    .dataframe tbody tr th:only-of-type {\n",
       "        vertical-align: middle;\n",
       "    }\n",
       "\n",
       "    .dataframe tbody tr th {\n",
       "        vertical-align: top;\n",
       "    }\n",
       "\n",
       "    .dataframe thead th {\n",
       "        text-align: right;\n",
       "    }\n",
       "</style>\n",
       "<table border=\"1\" class=\"dataframe\">\n",
       "  <thead>\n",
       "    <tr style=\"text-align: right;\">\n",
       "      <th></th>\n",
       "      <th>Matched Results</th>\n",
       "      <th>Matched Num</th>\n",
       "    </tr>\n",
       "  </thead>\n",
       "  <tbody>\n",
       "    <tr>\n",
       "      <th>1059447</th>\n",
       "      <td>[ PTA 11.4.0? ]</td>\n",
       "      <td>1</td>\n",
       "    </tr>\n",
       "    <tr>\n",
       "      <th>1059448</th>\n",
       "      <td>[ 12.4.0. ]</td>\n",
       "      <td>1</td>\n",
       "    </tr>\n",
       "    <tr>\n",
       "      <th>1059449</th>\n",
       "      <td>[ PTA 12.4.0? ]</td>\n",
       "      <td>1</td>\n",
       "    </tr>\n",
       "    <tr>\n",
       "      <th>1059455</th>\n",
       "      <td>[ 2.19.3 ]</td>\n",
       "      <td>1</td>\n",
       "    </tr>\n",
       "    <tr>\n",
       "      <th>1059457</th>\n",
       "      <td>[ PTA 12.4.0 ]</td>\n",
       "      <td>1</td>\n",
       "    </tr>\n",
       "    <tr>\n",
       "      <th>1059462</th>\n",
       "      <td>[ TNG 2.19 ,  TNG 2.19 ,  TNG 2.19 ,  TNG 2.19...</td>\n",
       "      <td>4</td>\n",
       "    </tr>\n",
       "    <tr>\n",
       "      <th>1059463</th>\n",
       "      <td>[ SGMAS 1.2 ]</td>\n",
       "      <td>1</td>\n",
       "    </tr>\n",
       "    <tr>\n",
       "      <th>1059475</th>\n",
       "      <td>[ FS 2.1.86619) ]</td>\n",
       "      <td>1</td>\n",
       "    </tr>\n",
       "    <tr>\n",
       "      <th>1059480</th>\n",
       "      <td>[ SGMAS 1.30 ]</td>\n",
       "      <td>1</td>\n",
       "    </tr>\n",
       "    <tr>\n",
       "      <th>1059541</th>\n",
       "      <td>[ (1.11 ,  1.14) ,  1.11 ]</td>\n",
       "      <td>3</td>\n",
       "    </tr>\n",
       "  </tbody>\n",
       "</table>\n",
       "</div>"
      ],
      "text/plain": [
       "                                           Matched Results  Matched Num\n",
       "1059447                                    [ PTA 11.4.0? ]            1\n",
       "1059448                                        [ 12.4.0. ]            1\n",
       "1059449                                    [ PTA 12.4.0? ]            1\n",
       "1059455                                         [ 2.19.3 ]            1\n",
       "1059457                                     [ PTA 12.4.0 ]            1\n",
       "1059462  [ TNG 2.19 ,  TNG 2.19 ,  TNG 2.19 ,  TNG 2.19...            4\n",
       "1059463                                      [ SGMAS 1.2 ]            1\n",
       "1059475                                  [ FS 2.1.86619) ]            1\n",
       "1059480                                     [ SGMAS 1.30 ]            1\n",
       "1059541                         [ (1.11 ,  1.14) ,  1.11 ]            3"
      ]
     },
     "execution_count": 8,
     "metadata": {},
     "output_type": "execute_result"
    }
   ],
   "source": [
    "o2.tail(10)"
   ]
  },
  {
   "cell_type": "code",
   "execution_count": 9,
   "metadata": {},
   "outputs": [],
   "source": [
    "def extract_split(extract_df):\n",
    "    ## split the lst in 'Matched Results'\n",
    "    col_id = extract_df.index.values.repeat(extract_df['Matched Num'])\n",
    "    col_version = list(chain(*list(extract_df['Matched Results'])))\n",
    "    extract_break = pd.DataFrame({'c_id':col_id, 'extract_info': col_version})\n",
    "    extract_break['extract_info'] = extract_break['extract_info'].apply(lambda x: x.lstrip().rstrip())\n",
    "    \n",
    "    return extract_break"
   ]
  },
  {
   "cell_type": "code",
   "execution_count": 10,
   "metadata": {},
   "outputs": [],
   "source": [
    "o2_break = extract_split(o2)"
   ]
  },
  {
   "cell_type": "code",
   "execution_count": 11,
   "metadata": {},
   "outputs": [
    {
     "data": {
      "text/html": [
       "<div>\n",
       "<style scoped>\n",
       "    .dataframe tbody tr th:only-of-type {\n",
       "        vertical-align: middle;\n",
       "    }\n",
       "\n",
       "    .dataframe tbody tr th {\n",
       "        vertical-align: top;\n",
       "    }\n",
       "\n",
       "    .dataframe thead th {\n",
       "        text-align: right;\n",
       "    }\n",
       "</style>\n",
       "<table border=\"1\" class=\"dataframe\">\n",
       "  <thead>\n",
       "    <tr style=\"text-align: right;\">\n",
       "      <th></th>\n",
       "      <th>c_id</th>\n",
       "      <th>extract_info</th>\n",
       "    </tr>\n",
       "  </thead>\n",
       "  <tbody>\n",
       "    <tr>\n",
       "      <th>262406</th>\n",
       "      <td>1059541</td>\n",
       "      <td>(1.11</td>\n",
       "    </tr>\n",
       "    <tr>\n",
       "      <th>262407</th>\n",
       "      <td>1059541</td>\n",
       "      <td>1.14)</td>\n",
       "    </tr>\n",
       "    <tr>\n",
       "      <th>262408</th>\n",
       "      <td>1059541</td>\n",
       "      <td>1.11</td>\n",
       "    </tr>\n",
       "  </tbody>\n",
       "</table>\n",
       "</div>"
      ],
      "text/plain": [
       "           c_id extract_info\n",
       "262406  1059541        (1.11\n",
       "262407  1059541        1.14)\n",
       "262408  1059541         1.11"
      ]
     },
     "execution_count": 11,
     "metadata": {},
     "output_type": "execute_result"
    }
   ],
   "source": [
    "o2_break[o2_break['c_id']==1059541]"
   ]
  },
  {
   "cell_type": "code",
   "execution_count": 12,
   "metadata": {},
   "outputs": [],
   "source": [
    "def text_split(string):\n",
    "    ## input is a string \n",
    "    x = re.sub('[^A-Za-z0-9.]+', \"\", string)\n",
    "    ind = x[0] in set(['0','1','2','3','4','5','6','7','8','9'])\n",
    "    if ind:\n",
    "        return np.nan, x\n",
    "    else:\n",
    "                # slice index\n",
    "        start = re.search('\\d',x).span()[0]\n",
    "        p1 = re.sub('[^A-Za-z]+', \"\", x[:start])\n",
    "        p2 = x[start:]\n",
    "        return p1, p2"
   ]
  },
  {
   "cell_type": "code",
   "execution_count": 13,
   "metadata": {},
   "outputs": [],
   "source": [
    "txt_split =  o2_break['extract_info'].apply(text_split)\n",
    "o2_break['Alphabets'] = list(txt_split.apply(lambda x: x[0]))\n",
    "o2_break['Digits'] = list(txt_split.apply(lambda x: x[1]))"
   ]
  },
  {
   "cell_type": "code",
   "execution_count": 14,
   "metadata": {},
   "outputs": [
    {
     "data": {
      "text/html": [
       "<div>\n",
       "<style scoped>\n",
       "    .dataframe tbody tr th:only-of-type {\n",
       "        vertical-align: middle;\n",
       "    }\n",
       "\n",
       "    .dataframe tbody tr th {\n",
       "        vertical-align: top;\n",
       "    }\n",
       "\n",
       "    .dataframe thead th {\n",
       "        text-align: right;\n",
       "    }\n",
       "</style>\n",
       "<table border=\"1\" class=\"dataframe\">\n",
       "  <thead>\n",
       "    <tr style=\"text-align: right;\">\n",
       "      <th></th>\n",
       "      <th>c_id</th>\n",
       "      <th>extract_info</th>\n",
       "      <th>Alphabets</th>\n",
       "      <th>Digits</th>\n",
       "    </tr>\n",
       "  </thead>\n",
       "  <tbody>\n",
       "    <tr>\n",
       "      <th>0</th>\n",
       "      <td>47</td>\n",
       "      <td>2.20</td>\n",
       "      <td>NaN</td>\n",
       "      <td>2.20</td>\n",
       "    </tr>\n",
       "    <tr>\n",
       "      <th>1</th>\n",
       "      <td>47</td>\n",
       "      <td>7.30.1</td>\n",
       "      <td>NaN</td>\n",
       "      <td>7.30.1</td>\n",
       "    </tr>\n",
       "    <tr>\n",
       "      <th>2</th>\n",
       "      <td>64</td>\n",
       "      <td>CA 2.2]</td>\n",
       "      <td>CA</td>\n",
       "      <td>2.2</td>\n",
       "    </tr>\n",
       "    <tr>\n",
       "      <th>3</th>\n",
       "      <td>64</td>\n",
       "      <td>BIPRU 14.2.1</td>\n",
       "      <td>BIPRU</td>\n",
       "      <td>14.2.1</td>\n",
       "    </tr>\n",
       "    <tr>\n",
       "      <th>4</th>\n",
       "      <td>64</td>\n",
       "      <td>BIPRU 14.2.13</td>\n",
       "      <td>BIPRU</td>\n",
       "      <td>14.2.13</td>\n",
       "    </tr>\n",
       "  </tbody>\n",
       "</table>\n",
       "</div>"
      ],
      "text/plain": [
       "   c_id   extract_info Alphabets   Digits\n",
       "0    47           2.20       NaN     2.20\n",
       "1    47         7.30.1       NaN   7.30.1\n",
       "2    64        CA 2.2]        CA      2.2\n",
       "3    64   BIPRU 14.2.1     BIPRU   14.2.1\n",
       "4    64  BIPRU 14.2.13     BIPRU  14.2.13"
      ]
     },
     "execution_count": 14,
     "metadata": {},
     "output_type": "execute_result"
    }
   ],
   "source": [
    "o2_break.head(5)"
   ]
  },
  {
   "cell_type": "code",
   "execution_count": 15,
   "metadata": {},
   "outputs": [],
   "source": [
    "lookup1 = pd.DataFrame(list(set(versions.apply(lambda x: x.split(' ')[0]))), columns = ['index'])\n",
    "lookup1['lower_case'] = lookup1['index'].apply(lambda x:x.lower())"
   ]
  },
  {
   "cell_type": "code",
   "execution_count": 16,
   "metadata": {},
   "outputs": [],
   "source": [
    "lookup1['original_clean'] = lookup1['index'].apply(lambda x: re.sub('[^A-Za-z]+', \"\", x))\n",
    "lookup1['lower_clean'] = lookup1['original_clean'].apply(lambda x:x.lower())"
   ]
  },
  {
   "cell_type": "code",
   "execution_count": 20,
   "metadata": {},
   "outputs": [
    {
     "data": {
      "text/html": [
       "<div>\n",
       "<style scoped>\n",
       "    .dataframe tbody tr th:only-of-type {\n",
       "        vertical-align: middle;\n",
       "    }\n",
       "\n",
       "    .dataframe tbody tr th {\n",
       "        vertical-align: top;\n",
       "    }\n",
       "\n",
       "    .dataframe thead th {\n",
       "        text-align: right;\n",
       "    }\n",
       "</style>\n",
       "<table border=\"1\" class=\"dataframe\">\n",
       "  <thead>\n",
       "    <tr style=\"text-align: right;\">\n",
       "      <th></th>\n",
       "      <th>index</th>\n",
       "      <th>lower_case</th>\n",
       "      <th>original_clean</th>\n",
       "      <th>lower_clean</th>\n",
       "    </tr>\n",
       "  </thead>\n",
       "  <tbody>\n",
       "    <tr>\n",
       "      <th>14</th>\n",
       "      <td>ESA_BdE</td>\n",
       "      <td>esa_bde</td>\n",
       "      <td>ESABdE</td>\n",
       "      <td>esabde</td>\n",
       "    </tr>\n",
       "    <tr>\n",
       "      <th>46</th>\n",
       "      <td>CA_NCR</td>\n",
       "      <td>ca_ncr</td>\n",
       "      <td>CANCR</td>\n",
       "      <td>cancr</td>\n",
       "    </tr>\n",
       "    <tr>\n",
       "      <th>19</th>\n",
       "      <td>INA</td>\n",
       "      <td>ina</td>\n",
       "      <td>INA</td>\n",
       "      <td>ina</td>\n",
       "    </tr>\n",
       "    <tr>\n",
       "      <th>33</th>\n",
       "      <td>Finance</td>\n",
       "      <td>finance</td>\n",
       "      <td>Finance</td>\n",
       "      <td>finance</td>\n",
       "    </tr>\n",
       "    <tr>\n",
       "      <th>17</th>\n",
       "      <td>CA_LCR</td>\n",
       "      <td>ca_lcr</td>\n",
       "      <td>CALCR</td>\n",
       "      <td>calcr</td>\n",
       "    </tr>\n",
       "    <tr>\n",
       "      <th>55</th>\n",
       "      <td>RRE</td>\n",
       "      <td>rre</td>\n",
       "      <td>RRE</td>\n",
       "      <td>rre</td>\n",
       "    </tr>\n",
       "    <tr>\n",
       "      <th>27</th>\n",
       "      <td>Business</td>\n",
       "      <td>business</td>\n",
       "      <td>Business</td>\n",
       "      <td>business</td>\n",
       "    </tr>\n",
       "    <tr>\n",
       "      <th>4</th>\n",
       "      <td>FRA</td>\n",
       "      <td>fra</td>\n",
       "      <td>FRA</td>\n",
       "      <td>fra</td>\n",
       "    </tr>\n",
       "    <tr>\n",
       "      <th>48</th>\n",
       "      <td>Toolkit</td>\n",
       "      <td>toolkit</td>\n",
       "      <td>Toolkit</td>\n",
       "      <td>toolkit</td>\n",
       "    </tr>\n",
       "    <tr>\n",
       "      <th>37</th>\n",
       "      <td>FIA</td>\n",
       "      <td>fia</td>\n",
       "      <td>FIA</td>\n",
       "      <td>fia</td>\n",
       "    </tr>\n",
       "    <tr>\n",
       "      <th>40</th>\n",
       "      <td>FDAModels</td>\n",
       "      <td>fdamodels</td>\n",
       "      <td>FDAModels</td>\n",
       "      <td>fdamodels</td>\n",
       "    </tr>\n",
       "    <tr>\n",
       "      <th>30</th>\n",
       "      <td>Compliance</td>\n",
       "      <td>compliance</td>\n",
       "      <td>Compliance</td>\n",
       "      <td>compliance</td>\n",
       "    </tr>\n",
       "    <tr>\n",
       "      <th>13</th>\n",
       "      <td>CZA_MKT</td>\n",
       "      <td>cza_mkt</td>\n",
       "      <td>CZAMKT</td>\n",
       "      <td>czamkt</td>\n",
       "    </tr>\n",
       "    <tr>\n",
       "      <th>15</th>\n",
       "      <td>PTA</td>\n",
       "      <td>pta</td>\n",
       "      <td>PTA</td>\n",
       "      <td>pta</td>\n",
       "    </tr>\n",
       "    <tr>\n",
       "      <th>58</th>\n",
       "      <td>FINRISKMGMT</td>\n",
       "      <td>finriskmgmt</td>\n",
       "      <td>FINRISKMGMT</td>\n",
       "      <td>finriskmgmt</td>\n",
       "    </tr>\n",
       "  </tbody>\n",
       "</table>\n",
       "</div>"
      ],
      "text/plain": [
       "          index   lower_case original_clean  lower_clean\n",
       "14      ESA_BdE      esa_bde         ESABdE       esabde\n",
       "46       CA_NCR       ca_ncr          CANCR        cancr\n",
       "19          INA          ina            INA          ina\n",
       "33      Finance      finance        Finance      finance\n",
       "17       CA_LCR       ca_lcr          CALCR        calcr\n",
       "55          RRE          rre            RRE          rre\n",
       "27     Business     business       Business     business\n",
       "4           FRA          fra            FRA          fra\n",
       "48      Toolkit      toolkit        Toolkit      toolkit\n",
       "37          FIA          fia            FIA          fia\n",
       "40    FDAModels    fdamodels      FDAModels    fdamodels\n",
       "30   Compliance   compliance     Compliance   compliance\n",
       "13      CZA_MKT      cza_mkt         CZAMKT       czamkt\n",
       "15          PTA          pta            PTA          pta\n",
       "58  FINRISKMGMT  finriskmgmt    FINRISKMGMT  finriskmgmt"
      ]
     },
     "execution_count": 20,
     "metadata": {},
     "output_type": "execute_result"
    }
   ],
   "source": [
    "lookup1.sample(15)"
   ]
  },
  {
   "cell_type": "markdown",
   "metadata": {},
   "source": [
    "### Find Alphabets with most appearance"
   ]
  },
  {
   "cell_type": "code",
   "execution_count": 21,
   "metadata": {},
   "outputs": [],
   "source": [
    "#### alphabets is also cleaned\n",
    "o2_break['lower_clean'] = o2_break['Alphabets'].dropna().apply(lambda x: x.lower())"
   ]
  },
  {
   "cell_type": "code",
   "execution_count": 22,
   "metadata": {},
   "outputs": [],
   "source": [
    "## check appearance of different alphabets on 'lower_clean' level\n",
    "lk = o2_break[~o2_break['lower_clean'].isin(lookup1['lower_clean'])].groupby(['lower_clean', 'Alphabets'])['c_id']\\\n",
    ".nunique().reset_index().sort_values('c_id', ascending =False)"
   ]
  },
  {
   "cell_type": "code",
   "execution_count": 23,
   "metadata": {},
   "outputs": [],
   "source": [
    "ct = lk.groupby('lower_clean')['c_id'].apply(sum).reset_index().sort_values('c_id', ascending = False)"
   ]
  },
  {
   "cell_type": "code",
   "execution_count": 24,
   "metadata": {},
   "outputs": [
    {
     "data": {
      "text/html": [
       "<div>\n",
       "<style scoped>\n",
       "    .dataframe tbody tr th:only-of-type {\n",
       "        vertical-align: middle;\n",
       "    }\n",
       "\n",
       "    .dataframe tbody tr th {\n",
       "        vertical-align: top;\n",
       "    }\n",
       "\n",
       "    .dataframe thead th {\n",
       "        text-align: right;\n",
       "    }\n",
       "</style>\n",
       "<table border=\"1\" class=\"dataframe\">\n",
       "  <thead>\n",
       "    <tr style=\"text-align: right;\">\n",
       "      <th></th>\n",
       "      <th>lower_clean</th>\n",
       "      <th>c_id</th>\n",
       "    </tr>\n",
       "  </thead>\n",
       "  <tbody>\n",
       "    <tr>\n",
       "      <th>659</th>\n",
       "      <td>rg</td>\n",
       "      <td>10360</td>\n",
       "    </tr>\n",
       "    <tr>\n",
       "      <th>813</th>\n",
       "      <td>tng</td>\n",
       "      <td>5663</td>\n",
       "    </tr>\n",
       "    <tr>\n",
       "      <th>307</th>\n",
       "      <td>fs</td>\n",
       "      <td>3669</td>\n",
       "    </tr>\n",
       "    <tr>\n",
       "      <th>207</th>\n",
       "      <td>df</td>\n",
       "      <td>1072</td>\n",
       "    </tr>\n",
       "    <tr>\n",
       "      <th>227</th>\n",
       "      <td>dpm</td>\n",
       "      <td>1027</td>\n",
       "    </tr>\n",
       "  </tbody>\n",
       "</table>\n",
       "</div>"
      ],
      "text/plain": [
       "    lower_clean   c_id\n",
       "659          rg  10360\n",
       "813         tng   5663\n",
       "307          fs   3669\n",
       "207          df   1072\n",
       "227         dpm   1027"
      ]
     },
     "execution_count": 24,
     "metadata": {},
     "output_type": "execute_result"
    }
   ],
   "source": [
    "ct.head()"
   ]
  },
  {
   "cell_type": "code",
   "execution_count": 25,
   "metadata": {},
   "outputs": [],
   "source": [
    "## by manual check, I made this list \n",
    "## in which elements are not product alphabets, but with most appearance before digits\n",
    "remove_lst =['c', 'f', 't', 'in', 'ii', 'uk','hf', 'on','am', 'pm','as', 'is', 'so', 'no', 'iv', 'if',  'at',\\\n",
    "             'ff', 'mo', 'se','the', 'for', 'and' , 'app', 'ie', 'be', 'was',\n",
    "'nt', 'the', 'for', 'part', 'java', 'guide', 'notes', 'rules', 'table', 'setup', 'param', 'studio',\\\n",
    "'driver', 'system','product', 'release', 'section', 'desktop', 'chapter',' windows',' framework', 'management',\\\n",
    "'calculator', 'version', 'in', 'release','and', 'then','pm', 'usd','id', 'null','vii.', 'return', 'xxx_', 'on']"
   ]
  },
  {
   "cell_type": "code",
   "execution_count": 26,
   "metadata": {},
   "outputs": [],
   "source": [
    "## make 10 a threshold so that alphabets right before digits with appearances in over 10 different comments are selected\n",
    "lk2 = lk[lk['lower_clean'].isin(ct[ct['c_id']>=10]['lower_clean'])].groupby('lower_clean').head(1)"
   ]
  },
  {
   "cell_type": "code",
   "execution_count": 27,
   "metadata": {},
   "outputs": [],
   "source": [
    "lk3 = lk2[~lk2['lower_clean'].isin(remove_lst)]"
   ]
  },
  {
   "cell_type": "code",
   "execution_count": 28,
   "metadata": {},
   "outputs": [
    {
     "data": {
      "text/html": [
       "<div>\n",
       "<style scoped>\n",
       "    .dataframe tbody tr th:only-of-type {\n",
       "        vertical-align: middle;\n",
       "    }\n",
       "\n",
       "    .dataframe tbody tr th {\n",
       "        vertical-align: top;\n",
       "    }\n",
       "\n",
       "    .dataframe thead th {\n",
       "        text-align: right;\n",
       "    }\n",
       "</style>\n",
       "<table border=\"1\" class=\"dataframe\">\n",
       "  <thead>\n",
       "    <tr style=\"text-align: right;\">\n",
       "      <th></th>\n",
       "      <th>lower_clean</th>\n",
       "      <th>Alphabets</th>\n",
       "      <th>c_id</th>\n",
       "    </tr>\n",
       "  </thead>\n",
       "  <tbody>\n",
       "    <tr>\n",
       "      <th>663</th>\n",
       "      <td>rg</td>\n",
       "      <td>RG</td>\n",
       "      <td>10360</td>\n",
       "    </tr>\n",
       "    <tr>\n",
       "      <th>819</th>\n",
       "      <td>tng</td>\n",
       "      <td>TNG</td>\n",
       "      <td>5659</td>\n",
       "    </tr>\n",
       "    <tr>\n",
       "      <th>309</th>\n",
       "      <td>fs</td>\n",
       "      <td>FS</td>\n",
       "      <td>3669</td>\n",
       "    </tr>\n",
       "    <tr>\n",
       "      <th>208</th>\n",
       "      <td>df</td>\n",
       "      <td>DF</td>\n",
       "      <td>1072</td>\n",
       "    </tr>\n",
       "    <tr>\n",
       "      <th>228</th>\n",
       "      <td>dpm</td>\n",
       "      <td>DPM</td>\n",
       "      <td>1027</td>\n",
       "    </tr>\n",
       "  </tbody>\n",
       "</table>\n",
       "</div>"
      ],
      "text/plain": [
       "    lower_clean Alphabets   c_id\n",
       "663          rg        RG  10360\n",
       "819         tng       TNG   5659\n",
       "309          fs        FS   3669\n",
       "208          df        DF   1072\n",
       "228         dpm       DPM   1027"
      ]
     },
     "execution_count": 28,
     "metadata": {},
     "output_type": "execute_result"
    }
   ],
   "source": [
    "lk3.head()"
   ]
  },
  {
   "cell_type": "code",
   "execution_count": 29,
   "metadata": {},
   "outputs": [
    {
     "data": {
      "text/plain": [
       "(157, 139)"
      ]
     },
     "execution_count": 29,
     "metadata": {},
     "output_type": "execute_result"
    }
   ],
   "source": [
    "lk2.shape[0], lk3.shape[0]"
   ]
  },
  {
   "cell_type": "code",
   "execution_count": 31,
   "metadata": {},
   "outputs": [
    {
     "data": {
      "text/html": [
       "<div>\n",
       "<style scoped>\n",
       "    .dataframe tbody tr th:only-of-type {\n",
       "        vertical-align: middle;\n",
       "    }\n",
       "\n",
       "    .dataframe tbody tr th {\n",
       "        vertical-align: top;\n",
       "    }\n",
       "\n",
       "    .dataframe thead th {\n",
       "        text-align: right;\n",
       "    }\n",
       "</style>\n",
       "<table border=\"1\" class=\"dataframe\">\n",
       "  <thead>\n",
       "    <tr style=\"text-align: right;\">\n",
       "      <th></th>\n",
       "      <th>index</th>\n",
       "      <th>lower_case</th>\n",
       "      <th>original_clean</th>\n",
       "      <th>lower_clean</th>\n",
       "    </tr>\n",
       "  </thead>\n",
       "  <tbody>\n",
       "    <tr>\n",
       "      <th>0</th>\n",
       "      <td>CHA</td>\n",
       "      <td>cha</td>\n",
       "      <td>CHA</td>\n",
       "      <td>cha</td>\n",
       "    </tr>\n",
       "    <tr>\n",
       "      <th>1</th>\n",
       "      <td>RegPlatform</td>\n",
       "      <td>regplatform</td>\n",
       "      <td>RegPlatform</td>\n",
       "      <td>regplatform</td>\n",
       "    </tr>\n",
       "    <tr>\n",
       "      <th>2</th>\n",
       "      <td>ATMapping</td>\n",
       "      <td>atmapping</td>\n",
       "      <td>ATMapping</td>\n",
       "      <td>atmapping</td>\n",
       "    </tr>\n",
       "    <tr>\n",
       "      <th>3</th>\n",
       "      <td>FinX</td>\n",
       "      <td>finx</td>\n",
       "      <td>FinX</td>\n",
       "      <td>finx</td>\n",
       "    </tr>\n",
       "    <tr>\n",
       "      <th>4</th>\n",
       "      <td>FRA</td>\n",
       "      <td>fra</td>\n",
       "      <td>FRA</td>\n",
       "      <td>fra</td>\n",
       "    </tr>\n",
       "  </tbody>\n",
       "</table>\n",
       "</div>"
      ],
      "text/plain": [
       "         index   lower_case original_clean  lower_clean\n",
       "0          CHA          cha            CHA          cha\n",
       "1  RegPlatform  regplatform    RegPlatform  regplatform\n",
       "2    ATMapping    atmapping      ATMapping    atmapping\n",
       "3         FinX         finx           FinX         finx\n",
       "4          FRA          fra            FRA          fra"
      ]
     },
     "execution_count": 31,
     "metadata": {},
     "output_type": "execute_result"
    }
   ],
   "source": [
    "lookup1.head()"
   ]
  },
  {
   "cell_type": "code",
   "execution_count": 32,
   "metadata": {},
   "outputs": [
    {
     "data": {
      "text/html": [
       "<div>\n",
       "<style scoped>\n",
       "    .dataframe tbody tr th:only-of-type {\n",
       "        vertical-align: middle;\n",
       "    }\n",
       "\n",
       "    .dataframe tbody tr th {\n",
       "        vertical-align: top;\n",
       "    }\n",
       "\n",
       "    .dataframe thead th {\n",
       "        text-align: right;\n",
       "    }\n",
       "</style>\n",
       "<table border=\"1\" class=\"dataframe\">\n",
       "  <thead>\n",
       "    <tr style=\"text-align: right;\">\n",
       "      <th></th>\n",
       "      <th>index</th>\n",
       "      <th>lower_clean</th>\n",
       "    </tr>\n",
       "  </thead>\n",
       "  <tbody>\n",
       "    <tr>\n",
       "      <th>663</th>\n",
       "      <td>RG</td>\n",
       "      <td>rg</td>\n",
       "    </tr>\n",
       "    <tr>\n",
       "      <th>819</th>\n",
       "      <td>TNG</td>\n",
       "      <td>tng</td>\n",
       "    </tr>\n",
       "    <tr>\n",
       "      <th>309</th>\n",
       "      <td>FS</td>\n",
       "      <td>fs</td>\n",
       "    </tr>\n",
       "    <tr>\n",
       "      <th>208</th>\n",
       "      <td>DF</td>\n",
       "      <td>df</td>\n",
       "    </tr>\n",
       "    <tr>\n",
       "      <th>228</th>\n",
       "      <td>DPM</td>\n",
       "      <td>dpm</td>\n",
       "    </tr>\n",
       "  </tbody>\n",
       "</table>\n",
       "</div>"
      ],
      "text/plain": [
       "    index lower_clean\n",
       "663    RG          rg\n",
       "819   TNG         tng\n",
       "309    FS          fs\n",
       "208    DF          df\n",
       "228   DPM         dpm"
      ]
     },
     "execution_count": 32,
     "metadata": {},
     "output_type": "execute_result"
    }
   ],
   "source": [
    "lookup4 = pd.DataFrame({'index': lk3['Alphabets'], 'lower_clean':lk3['lower_clean']})\n",
    "lookup4.head()"
   ]
  },
  {
   "cell_type": "code",
   "execution_count": 33,
   "metadata": {},
   "outputs": [],
   "source": [
    "lookup5 = lookup1[['index', 'lower_clean']]"
   ]
  },
  {
   "cell_type": "code",
   "execution_count": 34,
   "metadata": {},
   "outputs": [
    {
     "data": {
      "text/plain": [
       "(199, 2)"
      ]
     },
     "execution_count": 34,
     "metadata": {},
     "output_type": "execute_result"
    }
   ],
   "source": [
    "lookup_abc = pd.concat([lookup5, lookup4], axis=0, ignore_index = True)\n",
    "lookup_abc.shape"
   ]
  },
  {
   "cell_type": "code",
   "execution_count": 40,
   "metadata": {},
   "outputs": [],
   "source": [
    "lookup_abc.to_csv(r'.\\lookup\\lookup_0820.csv')"
   ]
  },
  {
   "cell_type": "raw",
   "metadata": {},
   "source": []
  }
 ],
 "metadata": {
  "kernelspec": {
   "display_name": "Python 3",
   "language": "python",
   "name": "python3"
  },
  "language_info": {
   "codemirror_mode": {
    "name": "ipython",
    "version": 3
   },
   "file_extension": ".py",
   "mimetype": "text/x-python",
   "name": "python",
   "nbconvert_exporter": "python",
   "pygments_lexer": "ipython3",
   "version": "3.6.8"
  }
 },
 "nbformat": 4,
 "nbformat_minor": 2
}
